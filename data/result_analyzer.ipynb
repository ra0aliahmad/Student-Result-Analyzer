{
 "cells": [
  {
   "cell_type": "markdown",
   "id": "3e734af9",
   "metadata": {},
   "source": [
    "# 🎓 Student Result Analyzer Dashboard\n",
    "Analyze students' marks, calculate totals and grades, and visualize performance using Python, Pandas, and Matplotlib.\n"
   ]
  },
  {
   "cell_type": "code",
   "execution_count": null,
   "id": "73a58775",
   "metadata": {
    "vscode": {
     "languageId": "plaintext"
    }
   },
   "outputs": [],
   "source": [
    "# Student Result Analyzer\n",
    "import pandas as pd\n",
    "import matplotlib.pyplot as plt\n",
    "\n",
    "# Read CSV file\n",
    "df = pd.read_csv(\"data/marks.csv\")\n",
    "\n",
    "# Calculate total and average\n",
    "df[\"Total\"] = df.iloc[:, 1:].sum(axis=1)\n",
    "df[\"Average\"] = df[\"Total\"] / (df.shape[1] - 1)\n",
    "\n",
    "# Function to assign grades\n",
    "def assign_grade(avg):\n",
    "    if avg >= 85:\n",
    "        return \"A\"\n",
    "    elif avg >= 70:\n",
    "        return \"B\"\n",
    "    elif avg >= 60:\n",
    "        return \"C\"\n",
    "    elif avg >= 50:\n",
    "        return \"D\"\n",
    "    else:\n",
    "        return \"F\"\n",
    "\n",
    "# Apply grade assignment\n",
    "df[\"Grade\"] = df[\"Average\"].apply(assign_grade)\n",
    "\n",
    "# Display analyzed data\n",
    "print(\"Student Results:\\n\")\n",
    "print(df)\n",
    "print(\"\\nClass Average:\", round(df[\"Average\"].mean(), 2))\n",
    "\n",
    "# Bar chart - Total Marks\n",
    "plt.figure(figsize=(8, 5))\n",
    "plt.bar(df[\"Name\"], df[\"Total\"], color=\"skyblue\")\n",
    "plt.title(\"Total Marks of Students\")\n",
    "plt.xlabel(\"Students\")\n",
    "plt.ylabel(\"Total Marks\")\n",
    "plt.grid(axis=\"y\", linestyle=\"--\", alpha=0.7)\n",
    "plt.show()\n",
    "\n",
    "# Pie chart - Grade Distribution\n",
    "grade_counts = df[\"Grade\"].value_counts()\n",
    "plt.figure(figsize=(6, 6))\n",
    "plt.pie(\n",
    "    grade_counts,\n",
    "    labels=grade_counts.index,\n",
    "    autopct=\"%1.1f%%\",\n",
    "    startangle=90,\n",
    "    colors=[\"#66b3ff\", \"#99ff99\", \"#ffcc99\", \"#ff9999\", \"#c2c2f0\"]\n",
    ")\n",
    "plt.title(\"Grade Distribution\")\n",
    "plt.show()\n"
   ]
  }
 ],
 "metadata": {
  "language_info": {
   "name": "python"
  }
 },
 "nbformat": 4,
 "nbformat_minor": 5
}
